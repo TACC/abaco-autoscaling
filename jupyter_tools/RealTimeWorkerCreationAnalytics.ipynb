{
 "cells": [
  {
   "cell_type": "markdown",
   "metadata": {},
   "source": [
    "## Description:\n",
    "Helper notebook to allow viewing of realtime Abaco worker creation by reading from the Redis database.  \n",
    "A user must open their nodes Redis port and use db='2' (The Abaco worker store) in order to use this.  \n",
    "Shows information on a graph."
   ]
  },
  {
   "cell_type": "code",
   "execution_count": null,
   "metadata": {},
   "outputs": [],
   "source": [
    "import json\n",
    "import redis\n",
    "import matplotlib.pyplot as plt"
   ]
  },
  {
   "cell_type": "code",
   "execution_count": null,
   "metadata": {},
   "outputs": [],
   "source": [
    "# Helper function that converts a Redis DB into a JSON dict\n",
    "def redis2dict(db):\n",
    "    allDocs = []\n",
    "    redisDB = redis.Redis(host='129.114.104.44', port=6979, db=db)\n",
    "    for key in redisDB.scan_iter():\n",
    "        key = key.decode('utf-8')\n",
    "        jsonDict = json.loads(redisDB.get(key))\n",
    "        jsonDict['_id'] = key\n",
    "        allDocs.append(jsonDict)\n",
    "    return allDocs"
   ]
  },
  {
   "cell_type": "code",
   "execution_count": null,
   "metadata": {},
   "outputs": [],
   "source": [
    "# Replace before_reqs with the testing start time to start the graph from 0 on the y axis.\n",
    "before_reqs = 0\n",
    "r_workers_store_json = redis2dict('2')\n",
    "times = []\n",
    "for actor in r_workers_store_json:\n",
    "    for key in actor:\n",
    "        if not key == '_id':\n",
    "            try:\n",
    "                times.append(float(actor[key]['create_time']))\n",
    "            except:\n",
    "                pass\n",
    "times_normalized = [x - before_reqs for x in times]\n",
    "times_normalized.sort()\n",
    "print(len(times_normalized), end='\\r')\n",
    "plt.plot(times_normalized)\n",
    "plt.show()"
   ]
  }
 ],
 "metadata": {
  "kernelspec": {
   "display_name": "Python 3",
   "language": "python",
   "name": "python3"
  },
  "language_info": {
   "codemirror_mode": {
    "name": "ipython",
    "version": 3
   },
   "file_extension": ".py",
   "mimetype": "text/x-python",
   "name": "python",
   "nbconvert_exporter": "python",
   "pygments_lexer": "ipython3",
   "version": "3.8.1"
  }
 },
 "nbformat": 4,
 "nbformat_minor": 4
}
